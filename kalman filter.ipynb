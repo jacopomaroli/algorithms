{
 "cells": [
  {
   "cell_type": "markdown",
   "metadata": {},
   "source": [
    "from https://gist.github.com/alexbw/1867612 and https://stackoverflow.com/questions/25581263/kalman-filter-behaviour"
   ]
  },
  {
   "cell_type": "code",
   "execution_count": null,
   "metadata": {},
   "outputs": [],
   "source": [
    "import matplotlib.pyplot as plt\n",
    "import numpy as np"
   ]
  },
  {
   "cell_type": "code",
   "execution_count": 49,
   "metadata": {},
   "outputs": [],
   "source": [
    "Q=0\n",
    "R=0\n",
    "A=0\n",
    "H=0\n",
    "K=0\n",
    "P=0\n",
    "X=0\n",
    "\n",
    "def kalman_init(state_dim, obs_dim):\n",
    "    global Q\n",
    "    global R\n",
    "    global A\n",
    "    global H\n",
    "    global K\n",
    "    global P\n",
    "    global X\n",
    "    Q = np.matrix( np.eye(state_dim)*1e-4 ) # Process noise\n",
    "    R = np.matrix( np.eye(obs_dim)*0.01 ) # Observation noise\n",
    "    A = np.matrix( np.eye(state_dim) ) # Transition matrix\n",
    "    H = np.matrix( np.zeros((obs_dim, state_dim)) ) # Measurement matrix\n",
    "    K = np.matrix( np.zeros_like(H.T) ) # Gain matrix\n",
    "    P = np.matrix( np.zeros_like(A) ) # State covariance\n",
    "    X = np.matrix( np.zeros((state_dim, 1)) ) # The actual state of the system\n",
    "\n",
    "    if obs_dim == state_dim/3:\n",
    "        # We'll go ahead and make this a position-predicting matrix with velocity & acceleration if we've got the right combination of dimensions\n",
    "        # The model is : x( t + 1 ) = x( t ) + v( t ) + a( t ) / 2\n",
    "        idx = np.r_[0:obs_dim]\n",
    "        positionIdx = np.ix_(idx, idx)\n",
    "        velocityIdx = np.ix_(idx,idx+obs_dim)\n",
    "        accelIdx = np.ix_(idx, idx+obs_dim*2)\n",
    "        accelAndVelIdx = np.ix_(idx+obs_dim, idx+obs_dim*2)\n",
    "\n",
    "        H[positionIdx] = np.eye(obs_dim)\n",
    "        A = np.eye(state_dim)\n",
    "        A[velocityIdx] += np.eye(obs_dim)\n",
    "        A[accelIdx] += 0.5 * np.eye(obs_dim)\n",
    "        A[accelAndVelIdx] += np.eye(obs_dim)\n",
    "\n",
    "def update(obs):\n",
    "    global Q\n",
    "    global R\n",
    "    global A\n",
    "    global H\n",
    "    global K\n",
    "    global P\n",
    "    global X\n",
    "    if obs.ndim == 1:\n",
    "        obs = np.matrix(obs).T\n",
    "\n",
    "    # Make prediction\n",
    "    X = A * X\n",
    "    P = A * P * A.T + Q\n",
    "\n",
    "    # Compute the optimal Kalman gain factor\n",
    "    K = P * H.T * np.linalg.inv(H * P * H.T + R)\n",
    "\n",
    "    # Correction based on observation\n",
    "    X = X + K * ( obs - H * X )\n",
    "    P = P - K * H * P\n",
    "\n",
    "\n",
    "def predict():\n",
    "    global H\n",
    "    global X\n",
    "    return np.asarray(H*X)"
   ]
  },
  {
   "cell_type": "code",
   "execution_count": 51,
   "metadata": {},
   "outputs": [],
   "source": [
    "n = 50    \n",
    "d = 5\n",
    "\n",
    "xf = np.zeros(n - d)\n",
    "yf = np.zeros(n - d)\n",
    "\n",
    "xp = np.zeros(d)\n",
    "yp = np.zeros(d)\n",
    "\n",
    "x = np.zeros(n)\n",
    "y = np.zeros(n)\n",
    "\n",
    "for i in range(n):\n",
    "\n",
    "    if i==0:\n",
    "        x[i] = 5\n",
    "        y[i] = 20\n",
    "        kalman_init(6, 2)\n",
    "        X[:2] = np.matrix((x[0], y[0])).T\n",
    "        xf[i], yf[i] = predict()\n",
    "    elif i< (n - d):\n",
    "        xf[i], yf[i] = predict()  \n",
    "        x[i] = x[i-1] + 1\n",
    "        y[i] = y[i-1] + np.random.random() * 10\n",
    "        NewPoint = np.r_[x[i], y[i]]\n",
    "        update(NewPoint)\n",
    "    else:\n",
    "        x[i] = x[i-1] + 1\n",
    "        y[i] = y[i-1] + np.random.random() * 10\n",
    "        xp[n - i -1], yp[n - i -1] = predict()  \n",
    "        NewPoint = np.r_[x[i] , yp[n - i -1]]\n",
    "        update(NewPoint)"
   ]
  },
  {
   "cell_type": "code",
   "execution_count": 52,
   "metadata": {},
   "outputs": [
    {
     "data": {
      "image/png": "[encoded data removed]",
      "text/plain": [
       "<Figure size 720x720 with 1 Axes>"
      ]
     },
     "metadata": {
      "needs_background": "light"
     },
     "output_type": "display_data"
    }
   ],
   "source": [
    "plt.figure(1)\n",
    "plt.rcParams[\"figure.figsize\"] = (10,10)\n",
    "plt.plot(x, y, 'ro-') #original\n",
    "plt.plot(xp, yp, 'go-') #predicted kalman\n",
    "plt.plot(xf, yf, 'b') #kalman filter\n",
    "plt.legend( ('Original', 'Prediction', 'Filtered') ) \n",
    "plt.show()"
   ]
  },
  {
   "cell_type": "code",
   "execution_count": null,
   "metadata": {},
   "outputs": [],
   "source": []
  }
 ],
 "metadata": {
  "kernelspec": {
   "display_name": "Python 3",
   "language": "python",
   "name": "python3"
  },
  "language_info": {
   "codemirror_mode": {
    "name": "ipython",
    "version": 3
   },
   "file_extension": ".py",
   "mimetype": "text/x-python",
   "name": "python",
   "nbconvert_exporter": "python",
   "pygments_lexer": "ipython3",
   "version": "3.7.6"
  }
 },
 "nbformat": 4,
 "nbformat_minor": 4
}
