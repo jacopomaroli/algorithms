{
 "cells": [
  {
   "cell_type": "code",
   "execution_count": 18,
   "metadata": {},
   "outputs": [],
   "source": [
    "import networkx as nx\n",
    "import numpy as np\n",
    "import matplotlib.pyplot as plt"
   ]
  },
  {
   "cell_type": "code",
   "execution_count": 35,
   "metadata": {},
   "outputs": [],
   "source": [
    "#Graph Adjacency Matrix\n",
    "Adj = np.asarray([\n",
    "    [0, 5, 0, 0],\n",
    "    [0, 0, 2, 7],\n",
    "    [0, 2, 0, 1],\n",
    "    [0, 7, 0, 0]\n",
    "]) #Zero means no edge between nodes\n",
    "origin = 1\n",
    "goal = 3"
   ]
  },
  {
   "cell_type": "code",
   "execution_count": 36,
   "metadata": {},
   "outputs": [],
   "source": [
    "#Plot the directed graph\n",
    "G = nx.DiGraph()\n",
    "\n",
    "N = Adj.shape[0]\n",
    "for i in range(N):\n",
    "  G.add_node(i)\n",
    "  \n",
    "for i in range(N):\n",
    "  for j in range(N):\n",
    "    if Adj[i,j] > 0:\n",
    "      G.add_edges_from([(i, j)], weight=Adj[i,j])"
   ]
  },
  {
   "cell_type": "code",
   "execution_count": 40,
   "metadata": {},
   "outputs": [
    {
     "data": {
      "image/png": "[encoded data removed]",
      "text/plain": [
       "<Figure size 432x288 with 1 Axes>"
      ]
     },
     "metadata": {},
     "output_type": "display_data"
    }
   ],
   "source": [
    "pos=nx.spring_layout(G) \n",
    "edge_labels=dict([((u,v,),d['weight'])\n",
    "                 for u,v,d in G.edges(data=True)]) \n",
    "nx.draw_networkx(G,pos,edge_labels=edge_labels, node_size = 1000, node_color = 'g', font_color = 'w') \n",
    "nx.draw_networkx_edge_labels(G, pos, edge_labels=edge_labels)\n",
    "plt.axis('off')\n",
    "plt.show()"
   ]
  },
  {
   "cell_type": "code",
   "execution_count": 29,
   "metadata": {},
   "outputs": [],
   "source": [
    "#Dijkstra algorithm\n",
    "distance = np.zeros(N) \n",
    "visited = np.ones(N)\n",
    "\n",
    "visited[origin] = 0\n",
    "\n",
    "pred = np.zeros(N)\n",
    "pred[origin] = origin\n",
    "\n",
    "for j in range(N):\n",
    "  if Adj[origin,j] == 0 and origin != j: \n",
    "    distance[j] = 10e10\n",
    "    pred[j] = -1\n",
    "  else:\n",
    "    distance[j] = Adj[origin,j]\n",
    "    pred[j] = origin\n",
    "\n",
    "while(np.sum(visited) > 0): \n",
    "  temp = np.copy(distance) \n",
    "  temp[visited == 0] = 10e10\n",
    "  vmin = np.argmin(temp)\n",
    "  visited[vmin] = 0\n",
    "  for j in range(N):\n",
    "    if Adj[vmin,j] > 0 and distance[j]>distance[vmin]+Adj[vmin,j]: \n",
    "      distance[j] = distance[vmin]+Adj[vmin,j]\n",
    "      pred[j] = vmin\n",
    "\n",
    "pred = pred.astype(int) #Minimum distance path from origin node to the others"
   ]
  },
  {
   "cell_type": "code",
   "execution_count": 30,
   "metadata": {},
   "outputs": [
    {
     "name": "stdout",
     "output_type": "stream",
     "text": [
      "The minimum distance path from 1 to 3 is: 3 <-- 2 <-- 1"
     ]
    },
    {
     "data": {
      "image/png": "[encoded data removed]",
      "text/plain": [
       "<Figure size 432x288 with 1 Axes>"
      ]
     },
     "metadata": {},
     "output_type": "display_data"
    }
   ],
   "source": [
    "#Plot path\n",
    "previous = pred[goal]\n",
    "path = [(previous, goal),(goal, previous)]\n",
    "print(\"The minimum distance path from \"+str(origin)+\" to \"+str(goal)+\" is: \"+str(goal)+\" <-- \"+str(previous), end=\"\")\n",
    "while(previous != origin):\n",
    "  path.append((previous, pred[previous]))\n",
    "  path.append((pred[previous], previous))\n",
    "  previous = pred[previous]\n",
    "  print(\" <-- \"+str(previous), end=\"\")\n",
    "\n",
    "edge_colors = ['black' if not edge in path else 'red' for edge in G.edges()]\n",
    "\n",
    "pos=nx.spring_layout(G)\n",
    "edge_labels=dict([((u,v,),d['weight'])\n",
    "                 for u,v,d in G.edges(data=True)])\n",
    "nx.draw_networkx(G,pos,edge_labels=edge_labels, node_size = 1000, node_color = 'g', edge_color=edge_colors)\n",
    "nx.draw_networkx_edge_labels(G, pos, edge_labels=edge_labels)\n",
    "plt.axis('off')\n",
    "plt.show()"
   ]
  },
  {
   "cell_type": "code",
   "execution_count": null,
   "metadata": {},
   "outputs": [],
   "source": []
  }
 ],
 "metadata": {
  "kernelspec": {
   "display_name": "Python 3",
   "language": "python",
   "name": "python3"
  },
  "language_info": {
   "codemirror_mode": {
    "name": "ipython",
    "version": 3
   },
   "file_extension": ".py",
   "mimetype": "text/x-python",
   "name": "python",
   "nbconvert_exporter": "python",
   "pygments_lexer": "ipython3",
   "version": "3.7.6"
  }
 },
 "nbformat": 4,
 "nbformat_minor": 4
}
