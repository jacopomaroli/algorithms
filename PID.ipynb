{
 "cells": [
  {
   "cell_type": "markdown",
   "metadata": {},
   "source": [
    "Inspired form https://github.com/ivmech/ivPID"
   ]
  },
  {
   "cell_type": "code",
   "execution_count": 1,
   "metadata": {},
   "outputs": [],
   "source": [
    "import time\n",
    "import matplotlib.pyplot as plt\n",
    "import numpy as np\n",
    "#from scipy.interpolate import spline\n",
    "from scipy.interpolate import BSpline, make_interp_spline"
   ]
  },
  {
   "cell_type": "code",
   "execution_count": 2,
   "metadata": {},
   "outputs": [],
   "source": [
    "def clear():\n",
    "    global PTerm\n",
    "    global ITerm\n",
    "    global DTerm\n",
    "    global last_error\n",
    "    \n",
    "    PTerm = 0.0\n",
    "    ITerm = 0.0\n",
    "    DTerm = 0.0\n",
    "    last_error = 0.0"
   ]
  },
  {
   "cell_type": "markdown",
   "metadata": {},
   "source": [
    "<center>$u(t) = K_p e(t) + K_i \\int_{0}^{t} e(t)dt + K_d {de}/{dt}$</center>"
   ]
  },
  {
   "cell_type": "code",
   "execution_count": 12,
   "metadata": {},
   "outputs": [],
   "source": [
    "def clip(value, lower, upper):\n",
    "    return lower if value < lower else upper if value > upper else value\n",
    "\n",
    "def update(feedback_value, delta_time, setpoint, windup_guard):\n",
    "    global PTerm\n",
    "    global ITerm\n",
    "    global DTerm\n",
    "    global Kp\n",
    "    global Ki\n",
    "    global Kd\n",
    "    global last_error\n",
    "\n",
    "    error = setpoint - feedback_value\n",
    "    delta_error = error - last_error\n",
    "\n",
    "    PTerm = error\n",
    "    ITerm += error * delta_time\n",
    "    ITerm = clip(ITerm, -windup_guard, windup_guard)\n",
    "    DTerm = delta_error / delta_time\n",
    "\n",
    "    last_error = error\n",
    "\n",
    "    return (Kp * PTerm) + (Ki * ITerm) + (Kd * DTerm)"
   ]
  },
  {
   "cell_type": "code",
   "execution_count": 25,
   "metadata": {},
   "outputs": [],
   "source": [
    "clear()\n",
    "\n",
    "Kp = 1.2\n",
    "Ki = 1\n",
    "Kd = 0.001\n",
    "END = 50\n",
    "windup_guard = 20.0\n",
    "current_time = time.time()\n",
    "last_time = current_time\n",
    "\n",
    "setpoint = 0.0\n",
    "sample_time = 0.01\n",
    "feedback = 0\n",
    "\n",
    "feedback_list = []\n",
    "time_list = []\n",
    "setpoint_list = []\n",
    "\n",
    "for i in range(1, END):\n",
    "    current_time = time.time()\n",
    "    delta_time = current_time - last_time\n",
    "    \n",
    "    if (delta_time >= sample_time):\n",
    "        output = update(feedback, delta_time, setpoint, windup_guard)\n",
    "        last_time = current_time\n",
    "\n",
    "    if setpoint > 0:\n",
    "        feedback += (output - (1/i))\n",
    "    if i>9:\n",
    "        setpoint = 1\n",
    "    time.sleep(0.02)\n",
    "\n",
    "    feedback_list.append(feedback)\n",
    "    setpoint_list.append(setpoint)\n",
    "    time_list.append(i)"
   ]
  },
  {
   "cell_type": "code",
   "execution_count": 26,
   "metadata": {},
   "outputs": [
    {
     "data": {
      "image/png": "[encoded data removed]",
      "text/plain": [
       "<Figure size 432x288 with 1 Axes>"
      ]
     },
     "metadata": {
      "needs_background": "light"
     },
     "output_type": "display_data"
    }
   ],
   "source": [
    "time_sm = np.array(time_list)\n",
    "time_smooth = np.linspace(time_sm.min(), time_sm.max(), 300)\n",
    "\n",
    "# feedback_smooth = spline(time_list, feedback_list, time_smooth)\n",
    "# Using make_interp_spline to create BSpline\n",
    "helper_x3 = make_interp_spline(time_list, feedback_list)\n",
    "feedback_smooth = helper_x3(time_smooth)\n",
    "\n",
    "plt.plot(time_smooth, feedback_smooth)\n",
    "plt.plot(time_list, setpoint_list)\n",
    "plt.xlim((0, END))\n",
    "plt.ylim((min(feedback_list)-0.5, max(feedback_list)+0.5))\n",
    "plt.xlabel('time (s)')\n",
    "plt.ylabel('PID (PV)')\n",
    "plt.title('TEST PID')\n",
    "\n",
    "plt.ylim((1-0.5, 1+0.5))\n",
    "\n",
    "plt.grid(True)\n",
    "plt.show()"
   ]
  },
  {
   "cell_type": "code",
   "execution_count": null,
   "metadata": {},
   "outputs": [],
   "source": []
  }
 ],
 "metadata": {
  "kernelspec": {
   "display_name": "Python 3",
   "language": "python",
   "name": "python3"
  },
  "language_info": {
   "codemirror_mode": {
    "name": "ipython",
    "version": 3
   },
   "file_extension": ".py",
   "mimetype": "text/x-python",
   "name": "python",
   "nbconvert_exporter": "python",
   "pygments_lexer": "ipython3",
   "version": "3.7.6"
  }
 },
 "nbformat": 4,
 "nbformat_minor": 4
}
